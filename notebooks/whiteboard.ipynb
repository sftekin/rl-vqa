{
 "cells": [
  {
   "cell_type": "code",
   "execution_count": 2,
   "metadata": {},
   "outputs": [
    {
     "name": "stdout",
     "output_type": "stream",
     "text": [
      "(1591, 9)\n",
      "(1591, 9)\n",
      "(1592, 9)\n",
      "(1592, 9)\n",
      "(1592, 9)\n",
      "(1592, 9)\n"
     ]
    }
   ],
   "source": [
    "import re\n",
    "import os\n",
    "import glob\n",
    "import numpy as np\n",
    "import pandas as pd\n",
    "\n",
    "\n",
    "infer_dir = \"../results/inference\"\n",
    "\n",
    "# task_name = \"okvqa\"\n",
    "# ds_split = \"train\"\n",
    "\n",
    "# task_name = \"mmmu\"\n",
    "# ds_split = \"validation\"\n",
    "\n",
    "task_name = \"mmmu_pro\"\n",
    "ds_split = \"test\"\n",
    "\n",
    "\n",
    "model_names = [\"llava-v1.6-vicuna-7b-hf\", \"llava-v1.6-vicuna-13b-hf\",\n",
    "               \"Qwen2.5-VL-7B-Instruct\", \"InternVL2-8B\",\n",
    "               \"deepseek-vl2-tiny\", \"deepseek-vl2-small\"]\n",
    "\n",
    "\n",
    "def extract_letter(text):\n",
    "    match = re.search(r\"\\((\\w)\\)\", text)\n",
    "    return match.group(1) if match else \"\"\n",
    "\n",
    "error_list = []\n",
    "for mn in model_names:\n",
    "    data_path = os.path.join(infer_dir, task_name, ds_split, f\"{mn}_output.csv\")\n",
    "    data_df = pd.read_csv(data_path)\n",
    "\n",
    "    arr_path = os.path.join(infer_dir, task_name, ds_split, f\"{mn}_prob.npy\")\n",
    "    prob_arr = np.load(arr_path)\n",
    "\n",
    "    start_chr = 'A'\n",
    "    choices = []\n",
    "    for i in range(prob_arr.shape[1]):\n",
    "        choices.append(start_chr)\n",
    "        start_chr = chr(ord(start_chr) + 1)\n",
    "\n",
    "    prob_pred = []\n",
    "    for i in np.argmax(prob_arr, axis=1):\n",
    "        prob_pred.append(choices[i])\n",
    "    prob_pred = np.array(prob_pred, dtype=str)\n",
    "\n",
    "    generated_outputs = data_df[\"generated_outputs\"].values\n",
    "\n",
    "    extracted_outputs = []\n",
    "    for output in generated_outputs:\n",
    "        pred_txt = str(output)[:10].strip()\n",
    "        if \"\\n\" in pred_txt:\n",
    "            pred_txt = pred_txt.split(\"\\n\")[1]\n",
    "        if \"(\" in pred_txt or \")\" in pred_txt:\n",
    "            pred_txt = extract_letter(pred_txt)\n",
    "        extracted_outputs.append(pred_txt[:1].upper())\n",
    "    extracted_outputs = np.array(extracted_outputs)\n",
    "\n",
    "    labels = data_df[\"answer\"].values.astype(str) \n",
    "    if task_name == \"mmmu_pro\" and \"llava\" not in mn:\n",
    "        extracted_outputs = np.delete(extracted_outputs, (1017), axis=0)\n",
    "        prob_pred = np.delete(prob_pred, (1017), axis=0)\n",
    "        labels = np.delete(labels, (1017), axis=0)\n",
    "\n",
    "    errors = labels == extracted_outputs.astype(str)\n",
    "    error_list.append(errors.astype(int))\n",
    "    acc = np.mean(errors)\n",
    "\n",
    "    print(prob_arr.shape)\n",
    "    # print(mn, acc, np.mean(data_df[\"answer\"].values.astype(str) == prob_pred))\n",
    "    \n"
   ]
  },
  {
   "cell_type": "code",
   "execution_count": 18,
   "metadata": {},
   "outputs": [],
   "source": [
    "import torch\n",
    "\n",
    "exp_dict = torch.load(\"../results/ensemble/exp_result.pth\")\n",
    "error_arr = np.array(error_list)\n",
    "\n",
    "logits = exp_dict[\"logits\"]\n",
    "ens_preds = logits[:, -9:].argmax(axis=1)\n",
    "ens_err = (ens_preds == exp_dict[\"labels\"]).astype(int)"
   ]
  },
  {
   "cell_type": "code",
   "execution_count": 54,
   "metadata": {},
   "outputs": [
    {
     "name": "stdout",
     "output_type": "stream",
     "text": [
      "[9.9956840e-01 4.0813899e-04 1.1119477e-05 2.7915346e-06 9.4742918e-06\n",
      " 6.7329417e-08 1.6450729e-08 3.6641364e-08 1.0020306e-08]\n"
     ]
    }
   ],
   "source": [
    "print(logits[1, -9:])"
   ]
  },
  {
   "cell_type": "code",
   "execution_count": 56,
   "metadata": {},
   "outputs": [
    {
     "data": {
      "text/plain": [
       "0.0"
      ]
     },
     "execution_count": 56,
     "metadata": {},
     "output_type": "execute_result"
    }
   ],
   "source": [
    "exp_dict[\"labels\"][1]"
   ]
  },
  {
   "cell_type": "code",
   "execution_count": 20,
   "metadata": {},
   "outputs": [
    {
     "data": {
      "text/plain": [
       "array([0.32809554, 0.33689503, 0.46260214, 0.42866122, 0.36203646,\n",
       "       0.31489629])"
      ]
     },
     "execution_count": 20,
     "metadata": {},
     "output_type": "execute_result"
    }
   ],
   "source": [
    "np.mean(error_arr, axis=1)"
   ]
  },
  {
   "cell_type": "code",
   "execution_count": 29,
   "metadata": {},
   "outputs": [
    {
     "data": {
      "text/plain": [
       "736"
      ]
     },
     "execution_count": 29,
     "metadata": {},
     "output_type": "execute_result"
    }
   ],
   "source": [
    "ens_err[error_arr[2]].sum()"
   ]
  },
  {
   "cell_type": "code",
   "execution_count": 40,
   "metadata": {},
   "outputs": [
    {
     "data": {
      "text/plain": [
       "(array([  0,   4,   8,  10,  12,  15,  16,  20,  22,  24,  29,  30,  31,\n",
       "         32,  35,  40,  41,  42,  44,  46,  47,  49,  52,  53,  54,  56,\n",
       "         57,  58,  62,  63,  64,  65,  66,  70,  71,  75,  76,  77,  78,\n",
       "         79,  80,  82,  88,  89,  96, 101, 102, 104, 106, 107, 108, 109,\n",
       "        112, 115, 116, 118, 120, 121, 123, 124, 126, 128, 131, 133, 135,\n",
       "        136, 141, 142, 144, 145, 146, 147, 148, 150, 152, 157, 158, 160,\n",
       "        161, 164, 165, 167, 168, 169, 170, 173, 177, 178, 180, 183, 185,\n",
       "        188, 189, 190, 191, 193, 195, 196, 198, 199, 201, 202, 203, 204,\n",
       "        208, 210, 219, 220, 221, 223, 225, 226, 227, 230, 234, 235, 236,\n",
       "        238, 241, 242, 244, 250, 251, 252, 254, 255, 263, 264, 266, 267,\n",
       "        268, 270, 272, 273, 275, 276, 277, 281, 282, 283, 287, 288, 290,\n",
       "        292, 296, 297, 298, 301, 303, 306, 307, 308, 309, 311, 312, 313,\n",
       "        314, 315, 316, 317, 318, 319, 322, 323, 325, 326, 327, 328, 330,\n",
       "        331, 336, 344, 349, 352, 359, 360, 362, 363, 367, 368, 371, 375,\n",
       "        376, 378, 379, 382, 383, 389, 392, 393, 399, 400, 401, 402, 403,\n",
       "        408, 410, 411, 413, 414, 415, 417, 419, 420, 422, 423, 425, 427,\n",
       "        428, 429, 433, 437, 438, 439, 441, 444, 446, 447, 449, 453, 455,\n",
       "        460, 463, 464, 467, 468, 469, 471, 472, 474, 475, 476, 477, 480,\n",
       "        482, 484, 485, 487, 488, 497, 501, 502, 506, 508, 509, 513, 515,\n",
       "        517, 518, 519, 520, 523, 525, 527, 528, 532, 535, 537, 538, 542,\n",
       "        544, 545, 547, 550, 553, 555, 556, 557, 562, 564, 565, 567, 570,\n",
       "        571, 572, 573, 575, 576, 579, 583, 584, 588, 589, 591, 592, 595,\n",
       "        597, 598, 599, 600, 603, 604, 610, 611, 617, 618, 619, 620, 622,\n",
       "        626, 627, 628, 631, 632, 633, 637, 638, 640, 642, 643, 644, 646,\n",
       "        648, 649, 650, 654, 655, 656, 657, 659, 660, 663, 668, 669, 670,\n",
       "        672, 673, 674, 681, 682, 685, 686, 687, 688, 692, 694, 696, 699,\n",
       "        701, 702, 705, 708, 709, 711, 712, 713, 715, 716, 717, 721, 724,\n",
       "        730, 731, 737, 738, 739, 741, 742, 743, 744, 745, 748, 749, 750,\n",
       "        752, 753, 754, 756, 758, 761, 762, 763, 764, 766, 767, 768, 769,\n",
       "        771, 777, 779, 784, 787, 788, 789, 792, 793, 794, 795, 796, 797,\n",
       "        798, 800, 802, 803, 804, 806, 807, 811, 813, 815, 816, 817, 818,\n",
       "        820, 821, 822, 823, 831, 833, 837, 840, 842, 846, 847, 848, 849,\n",
       "        850, 851, 852]),)"
      ]
     },
     "execution_count": 40,
     "metadata": {},
     "output_type": "execute_result"
    }
   ],
   "source": [
    "np.where(ens_err[~error_arr[2].astype(bool)])"
   ]
  },
  {
   "cell_type": "code",
   "execution_count": 43,
   "metadata": {},
   "outputs": [
    {
     "data": {
      "text/plain": [
       "array([False,  True, False, ..., False,  True,  True])"
      ]
     },
     "execution_count": 43,
     "metadata": {},
     "output_type": "execute_result"
    }
   ],
   "source": [
    "error_arr[2] == 0"
   ]
  },
  {
   "cell_type": "code",
   "execution_count": 46,
   "metadata": {},
   "outputs": [
    {
     "name": "stdout",
     "output_type": "stream",
     "text": [
      "1\n",
      "8\n",
      "14\n",
      "17\n",
      "20\n",
      "28\n",
      "29\n",
      "36\n",
      "41\n",
      "44\n",
      "56\n",
      "57\n",
      "58\n",
      "60\n",
      "63\n",
      "69\n",
      "71\n",
      "76\n",
      "81\n",
      "85\n",
      "87\n",
      "91\n",
      "94\n",
      "96\n",
      "99\n",
      "102\n",
      "103\n",
      "105\n",
      "112\n",
      "113\n",
      "114\n",
      "116\n",
      "119\n",
      "127\n",
      "128\n",
      "135\n",
      "137\n",
      "138\n",
      "139\n",
      "141\n",
      "142\n",
      "146\n",
      "161\n",
      "163\n",
      "174\n",
      "182\n",
      "183\n",
      "186\n",
      "190\n",
      "192\n",
      "195\n",
      "198\n",
      "202\n",
      "210\n",
      "212\n",
      "215\n",
      "220\n",
      "222\n",
      "224\n",
      "225\n",
      "230\n",
      "235\n",
      "239\n",
      "241\n",
      "244\n",
      "245\n",
      "259\n",
      "261\n",
      "264\n",
      "265\n",
      "266\n",
      "267\n",
      "270\n",
      "274\n",
      "278\n",
      "289\n",
      "293\n",
      "296\n",
      "297\n",
      "301\n",
      "302\n",
      "304\n",
      "305\n",
      "308\n",
      "310\n",
      "320\n",
      "326\n",
      "327\n",
      "332\n",
      "339\n",
      "341\n",
      "350\n",
      "351\n",
      "352\n",
      "354\n",
      "358\n",
      "362\n",
      "367\n",
      "369\n",
      "372\n",
      "374\n",
      "375\n",
      "377\n",
      "378\n",
      "388\n",
      "392\n",
      "412\n",
      "414\n",
      "415\n",
      "424\n",
      "429\n",
      "430\n",
      "431\n",
      "439\n",
      "451\n",
      "453\n",
      "454\n",
      "459\n",
      "463\n",
      "464\n",
      "472\n",
      "486\n",
      "487\n",
      "489\n",
      "497\n",
      "498\n",
      "513\n",
      "515\n",
      "518\n",
      "519\n",
      "520\n",
      "523\n",
      "526\n",
      "527\n",
      "531\n",
      "534\n",
      "535\n",
      "541\n",
      "542\n",
      "544\n",
      "548\n",
      "549\n",
      "551\n",
      "556\n",
      "568\n",
      "569\n",
      "570\n",
      "576\n",
      "579\n",
      "585\n",
      "586\n",
      "588\n",
      "590\n",
      "593\n",
      "594\n",
      "597\n",
      "600\n",
      "601\n",
      "603\n",
      "604\n",
      "605\n",
      "606\n",
      "609\n",
      "611\n",
      "614\n",
      "618\n",
      "620\n",
      "621\n",
      "623\n",
      "624\n",
      "633\n",
      "650\n",
      "657\n",
      "662\n",
      "673\n",
      "675\n",
      "677\n",
      "678\n",
      "683\n",
      "691\n",
      "695\n",
      "703\n",
      "705\n",
      "707\n",
      "708\n",
      "712\n",
      "713\n",
      "725\n",
      "729\n",
      "732\n",
      "745\n",
      "746\n",
      "748\n",
      "750\n",
      "753\n",
      "762\n",
      "765\n",
      "767\n",
      "769\n",
      "771\n",
      "774\n",
      "776\n",
      "778\n",
      "782\n",
      "784\n",
      "786\n",
      "788\n",
      "794\n",
      "795\n",
      "801\n",
      "812\n",
      "820\n",
      "823\n",
      "824\n",
      "826\n",
      "833\n",
      "838\n",
      "840\n",
      "842\n",
      "852\n",
      "857\n",
      "865\n",
      "868\n",
      "869\n",
      "872\n",
      "873\n",
      "874\n",
      "879\n",
      "880\n",
      "883\n",
      "886\n",
      "890\n",
      "891\n",
      "895\n",
      "898\n",
      "902\n",
      "904\n",
      "907\n",
      "908\n",
      "926\n",
      "935\n",
      "938\n",
      "946\n",
      "952\n",
      "954\n",
      "960\n",
      "962\n",
      "964\n",
      "965\n",
      "966\n",
      "967\n",
      "972\n",
      "975\n",
      "981\n",
      "982\n",
      "991\n",
      "996\n",
      "998\n",
      "1002\n",
      "1009\n",
      "1017\n",
      "1020\n",
      "1022\n",
      "1026\n",
      "1029\n",
      "1033\n",
      "1034\n",
      "1036\n",
      "1042\n",
      "1045\n",
      "1047\n",
      "1054\n",
      "1060\n",
      "1061\n",
      "1063\n",
      "1064\n",
      "1066\n",
      "1067\n",
      "1072\n",
      "1080\n",
      "1081\n",
      "1085\n",
      "1086\n",
      "1092\n",
      "1094\n",
      "1101\n",
      "1105\n",
      "1106\n",
      "1107\n",
      "1110\n",
      "1114\n",
      "1115\n",
      "1123\n",
      "1124\n",
      "1131\n",
      "1132\n",
      "1133\n",
      "1135\n",
      "1141\n",
      "1149\n",
      "1150\n",
      "1151\n",
      "1157\n",
      "1158\n",
      "1160\n",
      "1171\n",
      "1172\n",
      "1174\n",
      "1177\n",
      "1179\n",
      "1186\n",
      "1192\n",
      "1195\n",
      "1197\n",
      "1199\n",
      "1206\n",
      "1207\n",
      "1208\n",
      "1209\n",
      "1211\n",
      "1212\n",
      "1219\n",
      "1234\n",
      "1235\n",
      "1236\n",
      "1238\n",
      "1239\n",
      "1240\n",
      "1254\n",
      "1258\n",
      "1265\n",
      "1266\n",
      "1268\n",
      "1270\n",
      "1282\n",
      "1286\n",
      "1288\n",
      "1293\n",
      "1297\n",
      "1303\n",
      "1311\n",
      "1316\n",
      "1319\n",
      "1324\n",
      "1325\n",
      "1326\n",
      "1328\n",
      "1329\n",
      "1330\n",
      "1336\n",
      "1339\n",
      "1351\n",
      "1353\n",
      "1365\n",
      "1369\n",
      "1374\n",
      "1378\n",
      "1379\n",
      "1381\n",
      "1382\n",
      "1387\n",
      "1393\n",
      "1395\n",
      "1396\n",
      "1403\n",
      "1408\n",
      "1409\n",
      "1413\n",
      "1415\n",
      "1424\n",
      "1429\n",
      "1432\n",
      "1433\n",
      "1435\n",
      "1436\n",
      "1438\n",
      "1439\n",
      "1444\n",
      "1458\n",
      "1462\n",
      "1472\n",
      "1475\n",
      "1476\n",
      "1479\n",
      "1485\n",
      "1486\n",
      "1488\n",
      "1490\n",
      "1491\n",
      "1492\n",
      "1496\n",
      "1498\n",
      "1501\n",
      "1503\n",
      "1505\n",
      "1509\n",
      "1510\n",
      "1518\n",
      "1520\n",
      "1525\n",
      "1526\n",
      "1527\n",
      "1529\n",
      "1531\n",
      "1532\n",
      "1533\n",
      "1534\n",
      "1547\n",
      "1550\n",
      "1555\n",
      "1558\n",
      "1563\n",
      "1575\n",
      "1577\n",
      "1579\n",
      "1581\n",
      "1584\n",
      "1585\n",
      "1587\n"
     ]
    }
   ],
   "source": [
    "for i in range(len(error_arr[2])):\n",
    "    if error_arr[2, i] == 0 and ens_err[i] == 1:\n",
    "        print(i)"
   ]
  },
  {
   "cell_type": "code",
   "execution_count": 47,
   "metadata": {},
   "outputs": [
    {
     "data": {
      "text/plain": [
       "1"
      ]
     },
     "execution_count": 47,
     "metadata": {},
     "output_type": "execute_result"
    }
   ],
   "source": [
    "ens_err[1]\n"
   ]
  },
  {
   "cell_type": "code",
   "execution_count": 48,
   "metadata": {},
   "outputs": [
    {
     "data": {
      "text/plain": [
       "0"
      ]
     },
     "execution_count": 48,
     "metadata": {},
     "output_type": "execute_result"
    }
   ],
   "source": [
    "error_arr[2, 1]"
   ]
  },
  {
   "cell_type": "code",
   "execution_count": 17,
   "metadata": {},
   "outputs": [
    {
     "data": {
      "text/plain": [
       "0.32809553739786296"
      ]
     },
     "execution_count": 17,
     "metadata": {},
     "output_type": "execute_result"
    }
   ],
   "source": [
    "np.mean(qwen_pred)"
   ]
  },
  {
   "cell_type": "code",
   "execution_count": 15,
   "metadata": {},
   "outputs": [],
   "source": [
    "idx = ens_err[~qwen_pred]"
   ]
  },
  {
   "cell_type": "code",
   "execution_count": 16,
   "metadata": {},
   "outputs": [
    {
     "data": {
      "text/plain": [
       "0"
      ]
     },
     "execution_count": 16,
     "metadata": {},
     "output_type": "execute_result"
    }
   ],
   "source": [
    "sum(idx)"
   ]
  },
  {
   "cell_type": "code",
   "execution_count": 49,
   "metadata": {},
   "outputs": [],
   "source": [
    "import os\n",
    "\n",
    "os.chdir(\"../\")\n",
    "\n",
    "\n",
    "from data_generator.inference_loader import load_infer_prob_data\n",
    "\n",
    "\n",
    "data = load_infer_prob_data(model_names, \"mmmu_pro\", \"test\")"
   ]
  },
  {
   "cell_type": "code",
   "execution_count": 52,
   "metadata": {},
   "outputs": [],
   "source": [
    "labels = data[:, -1]"
   ]
  },
  {
   "cell_type": "code",
   "execution_count": 53,
   "metadata": {},
   "outputs": [
    {
     "data": {
      "text/plain": [
       "(1591,)"
      ]
     },
     "execution_count": 53,
     "metadata": {},
     "output_type": "execute_result"
    }
   ],
   "source": [
    "labels.shape"
   ]
  },
  {
   "cell_type": "code",
   "execution_count": 54,
   "metadata": {},
   "outputs": [
    {
     "data": {
      "text/plain": [
       "(1591, 37)"
      ]
     },
     "execution_count": 54,
     "metadata": {},
     "output_type": "execute_result"
    }
   ],
   "source": [
    "data.shape"
   ]
  },
  {
   "cell_type": "code",
   "execution_count": null,
   "metadata": {},
   "outputs": [],
   "source": []
  }
 ],
 "metadata": {
  "kernelspec": {
   "display_name": "mistral",
   "language": "python",
   "name": "python3"
  },
  "language_info": {
   "codemirror_mode": {
    "name": "ipython",
    "version": 3
   },
   "file_extension": ".py",
   "mimetype": "text/x-python",
   "name": "python",
   "nbconvert_exporter": "python",
   "pygments_lexer": "ipython3",
   "version": "3.10.13"
  }
 },
 "nbformat": 4,
 "nbformat_minor": 2
}
